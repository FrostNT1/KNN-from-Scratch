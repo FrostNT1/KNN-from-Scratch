{
 "cells": [
  {
   "cell_type": "markdown",
   "metadata": {},
   "source": [
    "# Creating a K Nearest Neighbour from the scratch (ish)"
   ]
  },
  {
   "cell_type": "markdown",
   "metadata": {},
   "source": [
    "First lets import some libraries we are going to use"
   ]
  },
  {
   "cell_type": "code",
   "execution_count": 1,
   "metadata": {},
   "outputs": [],
   "source": [
    "import matplotlib.pyplot as plt\n",
    "import pandas as pd"
   ]
  },
  {
   "cell_type": "markdown",
   "metadata": {},
   "source": [
    "Now lets import the dataset.\n",
    "I am going to be using the dataset from sklearn called Iris<br>\n",
    "You have probably heard of this dataset since it is used in a lot of tutorials and it is a simple dataset"
   ]
  },
  {
   "cell_type": "code",
   "execution_count": 2,
   "metadata": {},
   "outputs": [],
   "source": [
    "from sklearn import datasets\n",
    "\n",
    "df = datasets.load_iris()\n",
    "\n",
    "X = pd.DataFrame(df.data, columns=df.feature_names)\n",
    "y = pd.DataFrame(df.target, columns=['target'])"
   ]
  },
  {
   "cell_type": "markdown",
   "metadata": {},
   "source": [
    "I did explore the dataset before hand and I would recommend you do the same to understand what I am about to do in this notebook"
   ]
  },
  {
   "cell_type": "markdown",
   "metadata": {},
   "source": [
    "## Creating the Distance function\n",
    "\n",
    "The KNN algorithm uses the minkowski-distance<br>\n",
    "So lets create our own function for it"
   ]
  },
  {
   "cell_type": "code",
   "execution_count": 3,
   "metadata": {},
   "outputs": [],
   "source": [
    "def distance(a, b, p):\n",
    "    dist = 0\n",
    "    for i in range(len(a)):\n",
    "        dist += abs(a[i] - b[i]) ** p\n",
    "    return dist**(1/p)"
   ]
  },
  {
   "cell_type": "markdown",
   "metadata": {},
   "source": [
    "Now since we our using the distance between these points we need to scale the data"
   ]
  },
  {
   "cell_type": "code",
   "execution_count": 4,
   "metadata": {},
   "outputs": [],
   "source": [
    "from sklearn.preprocessing import StandardScaler\n",
    "scaler = StandardScaler()\n",
    "X = scaler.fit_transform(X)"
   ]
  },
  {
   "cell_type": "markdown",
   "metadata": {},
   "source": [
    "## Splitting the data"
   ]
  },
  {
   "cell_type": "code",
   "execution_count": 5,
   "metadata": {},
   "outputs": [],
   "source": [
    "from sklearn.model_selection import train_test_split\n",
    "X_train,X_test,y_train,y_test = train_test_split(X, y,\n",
    "                                                 test_size = 0.25)"
   ]
  },
  {
   "cell_type": "markdown",
   "metadata": {},
   "source": [
    "## The Algorithm\n",
    "Now its finally time to create the algorithm"
   ]
  },
  {
   "cell_type": "code",
   "execution_count": 6,
   "metadata": {},
   "outputs": [],
   "source": [
    "def Knn(X_train, X_test, y_train, y_test, k, p):\n",
    "    from collections import Counter\n",
    "    # to help with labels\n",
    "    \n",
    "    pred = []\n",
    "    for test in X_test:\n",
    "        dist = []\n",
    "        for train in X_train:\n",
    "            d = distance(train, test, p)\n",
    "            dist.append(d)\n",
    "        dist_data = pd.DataFrame(dist, y_train.index, ['Distance'])\n",
    "        \n",
    "        # Sorting to k closest points\n",
    "        nearest_neighbour = dist_data.sort_values(by=['Distance'], axis=0)[:k]\n",
    "        neighbour = (list(map(int,\n",
    "                              y_train.loc[(nearest_neighbour.index)].values)))\n",
    "        \n",
    "        counter = Counter(neighbour)\n",
    "        \n",
    "        res = counter.most_common()[0][0]\n",
    "        pred.append(res)\n",
    "    \n",
    "    return pred"
   ]
  },
  {
   "cell_type": "markdown",
   "metadata": {},
   "source": [
    "## Time to see how the algorithm works"
   ]
  },
  {
   "cell_type": "code",
   "execution_count": 7,
   "metadata": {},
   "outputs": [
    {
     "name": "stdout",
     "output_type": "stream",
     "text": [
      "0.8947368421052632\n"
     ]
    }
   ],
   "source": [
    "predictions = pd.DataFrame(Knn(X_train, X_test, y_train, y_test, 3, 2),\n",
    "                           columns=['target'])\n",
    "\n",
    "from sklearn.metrics import accuracy_score\n",
    "print(accuracy_score(y_test, predictions))"
   ]
  },
  {
   "cell_type": "markdown",
   "metadata": {},
   "source": [
    "The KNN algorithm has the K-neighbour parameter, lets see how it affects the algorithm"
   ]
  },
  {
   "cell_type": "markdown",
   "metadata": {},
   "source": [
    "## Plot"
   ]
  },
  {
   "cell_type": "code",
   "execution_count": 8,
   "metadata": {},
   "outputs": [
    {
     "data": {
      "text/plain": [
       "[]"
      ]
     },
     "execution_count": 8,
     "metadata": {},
     "output_type": "execute_result"
    },
    {
     "data": {
      "image/png": "[encoded data removed]",
      "text/plain": [
       "<Figure size 432x288 with 1 Axes>"
      ]
     },
     "metadata": {
      "needs_background": "light"
     },
     "output_type": "display_data"
    }
   ],
   "source": [
    "score = []\n",
    "for i in range(1, 101):\n",
    "    line = None\n",
    "    line = pd.DataFrame(Knn(X_train, X_test, y_train, y_test, i, 2),\n",
    "                           columns=['target'])\n",
    "    score.append(accuracy_score(y_test, line))\n",
    "    \n",
    "# Plotting\n",
    "plt.plot(range(1, 101), score)\n",
    "plt.xlabel(\"Number of Nearest Neighbours\")\n",
    "plt.ylabel(\"Accuracy Score\")\n",
    "plt.plot()"
   ]
  },
  {
   "cell_type": "markdown",
   "metadata": {},
   "source": [
    "Notice how the graph is boxy, this is due to the split ratio"
   ]
  },
  {
   "cell_type": "markdown",
   "metadata": {},
   "source": [
    "# Conclusion\n",
    "\n",
    "Although I have created a version of the KNN Clustering Algorithm <br>\n",
    "I believe it is no where as complex and efficient as the one that you may find in libraries<br>\n",
    "Another point to notice is that my algorithm does not take into account which points are closer, ie., the weightage of points in its negibhourhood<br>\n",
    "This notebook is just to show the basic intuition behind the K-NN algortihm<br>\n",
    "<i>(Not even the adjusted Knn algortihm; Asian parents be disappointed)</i><br>\n",
    "Do not think of this as a template or guide to fully understand the algortihm."
   ]
  }
 ],
 "metadata": {
  "kernelspec": {
   "display_name": "Python 3",
   "language": "python",
   "name": "python3"
  },
  "language_info": {
   "codemirror_mode": {
    "name": "ipython",
    "version": 3
   },
   "file_extension": ".py",
   "mimetype": "text/x-python",
   "name": "python",
   "nbconvert_exporter": "python",
   "pygments_lexer": "ipython3",
   "version": "3.7.6"
  }
 },
 "nbformat": 4,
 "nbformat_minor": 4
}
